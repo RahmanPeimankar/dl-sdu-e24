{
 "cells": [
  {
   "cell_type": "markdown",
   "metadata": {
    "slideshow": {
     "slide_type": "slide"
    }
   },
   "source": [
    "<center>\n",
    "<img src=\"img/dl-logo.JPG\" width=\"600\"/>\n",
    "\n",
    "***\n",
    "\n",
    "<center>Lecture 1</center>\n",
    "\n",
    "***\n",
    "\n",
    "<center>Introduction - Time Series Analysis</center>  \n",
    "\n",
    "***\n",
    "\n",
    "<center>5 September 2023<center>\n",
    "<center>Rahman Peimankar<center>"
   ]
  },
  {
   "cell_type": "markdown",
   "metadata": {
    "slideshow": {
     "slide_type": "slide"
    }
   },
   "source": [
    "# My Contact Information"
   ]
  },
  {
   "cell_type": "markdown",
   "metadata": {
    "slideshow": {
     "slide_type": "-"
    }
   },
   "source": [
    "* **Instructor:** Abdolrahman (Rahman) Peimankar \n",
    "* **Affiliation:** Assistant Professor at The Maersk Mc-Kinney Moller Institute, SDU Health Informatics and Technology\n",
    "* **Email:** abpe@mmmi.sdu.dk \n",
    "* **Office location:** Ø19-609b-1 (Stue, the new MMMI Building)"
   ]
  },
  {
   "cell_type": "markdown",
   "metadata": {
    "slideshow": {
     "slide_type": "slide"
    }
   },
   "source": [
    "### Feedback"
   ]
  },
  {
   "cell_type": "markdown",
   "metadata": {
    "slideshow": {
     "slide_type": "fragment"
    }
   },
   "source": [
    "* I will use Poll Everywhere software for short quizzes and feedback!\n",
    "\n",
    "Please provide your anonymous feedback [here](https://PollEv.com/free_text_polls/cC6AAQS9L6a5bpBB93ZYr/respond)"
   ]
  },
  {
   "cell_type": "markdown",
   "metadata": {
    "slideshow": {
     "slide_type": "slide"
    }
   },
   "source": [
    "# Agenda"
   ]
  },
  {
   "cell_type": "markdown",
   "metadata": {
    "slideshow": {
     "slide_type": "-"
    }
   },
   "source": [
    "1. Lectures Overview\n",
    "2. Brief History of Machine and Deep Learning\n",
    "3. Why Deep Learning?\n",
    "4. Health Informatics as a Deep Learning Application \n",
    "5. Some Use Cases \n",
    "6. Exam Project"
   ]
  },
  {
   "cell_type": "markdown",
   "metadata": {
    "slideshow": {
     "slide_type": "slide"
    }
   },
   "source": [
    "# Lectures Overview"
   ]
  },
  {
   "cell_type": "markdown",
   "metadata": {
    "slideshow": {
     "slide_type": "-"
    }
   },
   "source": [
    "**Lecture 8: Time-series analysis 1**\n",
    "   * Sequences and prediction\n",
    "       1. Introduction to time series\n",
    "       2. Deep learning applied to time-series\n",
    "   * Recurrent neural networks (RNNs)\n",
    "       1. Simple RNN\n",
    "       2. Gated Recurrent Units\n",
    "       3. Long Short-Term Memory networks (LSTM)\n",
    "   * CNNs for time series analysis"
   ]
  },
  {
   "cell_type": "markdown",
   "metadata": {
    "slideshow": {
     "slide_type": "slide"
    }
   },
   "source": [
    "**Lecture 9: Time-series analysis 2**\n",
    "   * Recurrent neural networks for time series\n",
    "       1. Preparing inputs for RNNs/LSTM networks\n",
    "       2. Outputs in RNNs/LSTM\n",
    "   * Physiological time-series \n",
    "       1. Electrocardiograms (ECGs) as time-series\n",
    "       2. Cardiac arrhythmias detection using ECGs \n",
    "       3. Read paper: Cardiologist-level arrhythmia detection and classification in ambulatory electrocardiograms using a deep neural network (https://www.nature.com/articles/s41591-018-0268-3) "
   ]
  },
  {
   "cell_type": "markdown",
   "metadata": {
    "slideshow": {
     "slide_type": "slide"
    }
   },
   "source": [
    "## Machine Learning, AI, and Deep Learning"
   ]
  },
  {
   "cell_type": "markdown",
   "metadata": {
    "slideshow": {
     "slide_type": "-"
    }
   },
   "source": [
    "<div>\n",
    "<center>\n",
    "<img src=\"img/Qimage-27.jpg\" width=\"300\"/>\n",
    "</div>\n",
    "\n",
    "* **AI:** A system that achieves intelligence through rules.\n",
    "* **ML:** Algorithms that learn the rules and representations from data *automatically*.\n",
    "* **DL:** Algorithms that learn the parameters of multilayer neural networks to extract the representation of data with multiple layers of abstracion."
   ]
  },
  {
   "cell_type": "markdown",
   "metadata": {
    "slideshow": {
     "slide_type": "slide"
    }
   },
   "source": [
    "# Brief History and Machine Learning Ecosystem"
   ]
  },
  {
   "cell_type": "markdown",
   "metadata": {
    "slideshow": {
     "slide_type": "-"
    }
   },
   "source": [
    "<div>\n",
    "<center>\n",
    "<img src=\"img/Qimage-24.jpg\" width=\"1500\"/>\n",
    "</div>\n",
    "    \n",
    "https://beamandrew.github.io/deeplearning/2017/02/23/deep_learning_101_part1.html"
   ]
  },
  {
   "cell_type": "markdown",
   "metadata": {
    "slideshow": {
     "slide_type": "slide"
    }
   },
   "source": [
    "# Why Deep Learning and Why Now?"
   ]
  },
  {
   "cell_type": "markdown",
   "metadata": {
    "slideshow": {
     "slide_type": "-"
    }
   },
   "source": [
    "* Hand engineered features are time consuming and not scalabale in practice.\n",
    "* Can we learn the **underlying features** directly from data?"
   ]
  },
  {
   "cell_type": "markdown",
   "metadata": {
    "slideshow": {
     "slide_type": "fragment"
    }
   },
   "source": [
    "* As we said, neural networks date back decades, so why now?"
   ]
  },
  {
   "cell_type": "markdown",
   "metadata": {
    "slideshow": {
     "slide_type": "fragment"
    }
   },
   "source": [
    "1. **Big Data**\n",
    "    * Larger datasets\n",
    "    * Easier collection and storage\n",
    "2. **Hardware**\n",
    "    * Graphics Processing Units (GPU)\n",
    "3. **Software**\n",
    "    * Improved Techniques\n",
    "    * New Models\n",
    "    * Toolboxes"
   ]
  },
  {
   "cell_type": "markdown",
   "metadata": {
    "slideshow": {
     "slide_type": "slide"
    }
   },
   "source": [
    "# Deep Learning Application"
   ]
  },
  {
   "cell_type": "markdown",
   "metadata": {
    "slideshow": {
     "slide_type": "-"
    }
   },
   "source": [
    "* Health informatics, medical AI, & biomedical signal processing\n",
    "\n",
    "    1. Patient Risk Identification\n",
    "    2. Identifying diseases and diagnosis\n",
    "    3. Personalized medicine\n",
    "    4. Smart health records\n",
    "    5. Medical imaging diagnosis\n",
    "\n",
    "<div>\n",
    "<center>\n",
    "<img src=\"img/Qimage-1.jpg\" width=\"600\"/>\n",
    "</div>"
   ]
  },
  {
   "cell_type": "markdown",
   "metadata": {
    "slideshow": {
     "slide_type": "slide"
    }
   },
   "source": [
    "# Impact of Deep/Machine Learning in Health Informatics"
   ]
  },
  {
   "cell_type": "markdown",
   "metadata": {
    "slideshow": {
     "slide_type": "-"
    }
   },
   "source": [
    "<div>\n",
    "\n",
    "<table><tr>\n",
    "<td>\n",
    "    \n",
    "<img src=\"img/Qimage-3.jpg\" width=\"400\"/>\n",
    "    \n",
    "</td>\n",
    "<td>\n",
    "    \n",
    "<img src=\"img/Qimage-2.jpg\" width=\"400\"/>\n",
    "    \n",
    "</td>\n",
    "</tr></table>"
   ]
  },
  {
   "cell_type": "markdown",
   "metadata": {
    "slideshow": {
     "slide_type": "slide"
    }
   },
   "source": [
    "# State-of-the-Art in Health Informatics"
   ]
  },
  {
   "cell_type": "markdown",
   "metadata": {
    "slideshow": {
     "slide_type": "-"
    }
   },
   "source": [
    "<div>\n",
    "<center>\n",
    "<img src=\"img/Qimage-4.jpg\" width=\"1000\"/>\n",
    "</div>\n",
    "    \n",
    "    \n",
    "Ravì, Daniele, et al. \"Deep learning for health informatics.\" IEEE journal of biomedical and health informatics 21.1 (2016): 4-21."
   ]
  },
  {
   "cell_type": "markdown",
   "metadata": {
    "slideshow": {
     "slide_type": "slide"
    }
   },
   "source": [
    "# Cardiac Arrhythmias Detection Using Deep Learning"
   ]
  },
  {
   "cell_type": "markdown",
   "metadata": {
    "slideshow": {
     "slide_type": "-"
    }
   },
   "source": [
    "* A significant proportion of worldwide mortality are caused by cardiac diseases and atrial fibrillation (AF) is one of the most common cardiac arrhythmias among elderly population.\n",
    "\n",
    "* AF requires long-term pharmacological treatment and hospitalizations resulting in a substantial and growing economic burden on the healthcare system.\n",
    "\n",
    "<div>\n",
    "<center>\n",
    "<img src=\"img/Qimage-5.png\" width=\"500\"/>\n",
    "</div>"
   ]
  },
  {
   "cell_type": "markdown",
   "metadata": {
    "slideshow": {
     "slide_type": "slide"
    }
   },
   "source": [
    "# Atrial Fibrillation"
   ]
  },
  {
   "cell_type": "markdown",
   "metadata": {
    "slideshow": {
     "slide_type": "-"
    }
   },
   "source": [
    "<div>\n",
    "\n",
    "<table><tr>\n",
    "<td>\n",
    "    \n",
    "<img src=\"img/Qimage-6.png\" width=\"950\"/>\n",
    "    \n",
    "</td>\n",
    "<td>\n",
    "    \n",
    "<img src=\"img/Qimage-7.jpg\" width=\"800\"/>\n",
    "    \n",
    "</td>\n",
    "</tr></table>"
   ]
  },
  {
   "cell_type": "markdown",
   "metadata": {
    "slideshow": {
     "slide_type": "slide"
    }
   },
   "source": [
    "# Where Can I Find Data To Train My Deep Learning Models?"
   ]
  },
  {
   "cell_type": "markdown",
   "metadata": {
    "slideshow": {
     "slide_type": "-"
    }
   },
   "source": [
    "* Various bio-signals datasets:\n",
    "\n",
    "\n",
    "<div>\n",
    "<center>\n",
    "<img src=\"img/Qimage-8.PNG\" width=\"1000\"/>\n",
    "</div>\n",
    "\n",
    "https://physionet.org/"
   ]
  },
  {
   "cell_type": "markdown",
   "metadata": {
    "slideshow": {
     "slide_type": "slide"
    }
   },
   "source": [
    "# Use Case 1: Deep Learning Approach for AF Detection"
   ]
  },
  {
   "cell_type": "markdown",
   "metadata": {
    "slideshow": {
     "slide_type": "-"
    }
   },
   "source": [
    "<div>\n",
    "<center>\n",
    "<img src=\"img/Qimage-10.jpg\" width=\"1400\"/>\n",
    "</div>"
   ]
  },
  {
   "cell_type": "markdown",
   "metadata": {
    "slideshow": {
     "slide_type": "fragment"
    }
   },
   "source": [
    "<div>\n",
    "\n",
    "<table><tr>\n",
    "<td>\n",
    "    \n",
    "<img src=\"img/Qimage-11.JPG\" width=\"800\"/>\n",
    "    \n",
    "</td>\n",
    "<td>\n",
    "    \n",
    "<img src=\"img/Qimage-12.JPG\" width=\"650\"/>\n",
    "    \n",
    "</td>\n",
    "</tr></table>\n",
    "    "
   ]
  },
  {
   "cell_type": "markdown",
   "metadata": {
    "slideshow": {
     "slide_type": "slide"
    }
   },
   "source": [
    "<div>\n",
    "<center>\n",
    "<img src=\"img/Qimage-14.png\" width=\"900\"/>\n",
    "</div>\n",
    "    \n",
    "Andersen, Rasmus S., Abdolrahman Peimankar, and Sadasivan Puthusserypady. \"A deep learning approach for real-time detection of atrial fibrillation.\" (https://doi.org/10.1016/j.eswa.2018.08.011)"
   ]
  },
  {
   "cell_type": "markdown",
   "metadata": {
    "slideshow": {
     "slide_type": "slide"
    }
   },
   "source": [
    "### AF Detection Result"
   ]
  },
  {
   "cell_type": "markdown",
   "metadata": {
    "slideshow": {
     "slide_type": "-"
    }
   },
   "source": [
    "<div>\n",
    "<center>\n",
    "<img src=\"img/Qimage-14.JPG\" width=\"900\"/>\n",
    "</div>"
   ]
  },
  {
   "cell_type": "markdown",
   "metadata": {
    "slideshow": {
     "slide_type": "slide"
    }
   },
   "source": [
    "# Use Case 2: ECG Signal Segmentation Model"
   ]
  },
  {
   "cell_type": "markdown",
   "metadata": {
    "slideshow": {
     "slide_type": "fragment"
    }
   },
   "source": [
    "<div>\n",
    "<center>\n",
    "<img src=\"img/Qimage-13.JPG\" width=\"800\"/>\n",
    "</div>\n",
    "    \n",
    "Peimankar, Abdolrahman, and Sadasivan Puthusserypady. \"DENS-ECG: A deep learning approach for ECG signal delineation.\" (https://doi.org/10.1016/j.eswa.2020.113911)"
   ]
  },
  {
   "cell_type": "markdown",
   "metadata": {
    "slideshow": {
     "slide_type": "slide"
    }
   },
   "source": [
    "# Exam Project on Time-series Analysis "
   ]
  },
  {
   "cell_type": "markdown",
   "metadata": {
    "slideshow": {
     "slide_type": "fragment"
    }
   },
   "source": [
    "* You should implement a deep learning based time-series classification algorithm. \n",
    "* You can use one of the following health related datasets/time-series from the list below: \n",
    "    1. MIT-BIH Arrhythmia Database (https://physionet.org/content/mitdb/) \n",
    "    2. MIT-BIH Atrial Fibrillation Database (https://physionet.org/content/afdb/) \n",
    "    3. AF Classification from a Short Single Lead ECG Recording - The PhysioNet Computing in Cardiology Challenge 2017 (https://physionet.org/content/challenge-2017/) \n",
    "    4. Classification of 12-lead ECGs: the PhysioNet - Computing in Cardiology Challenge 2020 (https://physionet.org/content/challenge-2020/) "
   ]
  },
  {
   "cell_type": "markdown",
   "metadata": {
    "slideshow": {
     "slide_type": "slide"
    }
   },
   "source": [
    "You can follow the below steps to complete the task:\n",
    "   1. Download one of the datasets. You can use the PhysioNet WFDB python package to download the entire dataset easily. Please see the demo.ipynb file on this GitHub page (https://github.com/MIT-LCP/wfdb-python). \n",
    "    "
   ]
  },
  {
   "cell_type": "markdown",
   "metadata": {
    "slideshow": {
     "slide_type": "fragment"
    }
   },
   "source": [
    "   2. Upload the dataset to Google Drive, so that you can load it from Google Colab using the WFDB library."
   ]
  },
  {
   "cell_type": "markdown",
   "metadata": {
    "slideshow": {
     "slide_type": "fragment"
    }
   },
   "source": [
    "   3. Split the data into train, validation, and test sets."
   ]
  },
  {
   "cell_type": "markdown",
   "metadata": {
    "slideshow": {
     "slide_type": "fragment"
    }
   },
   "source": [
    "   4. Load and preprocess the data e.g. filter noise from of ECG signals."
   ]
  },
  {
   "cell_type": "markdown",
   "metadata": {
    "slideshow": {
     "slide_type": "slide"
    }
   },
   "source": [
    "   5. Train different networks architectures and hyperparameters to achieve the best result on validation set. This can be a LSTM, CNN, or a combination of both models."
   ]
  },
  {
   "cell_type": "markdown",
   "metadata": {
    "slideshow": {
     "slide_type": "fragment"
    }
   },
   "source": [
    "   6. The performance of the best trained model with its optimum hyperparameters should be evaluated on the test set."
   ]
  },
  {
   "cell_type": "markdown",
   "metadata": {
    "slideshow": {
     "slide_type": "fragment"
    }
   },
   "source": [
    "   7. You should report the results of the model using different metrics and techniques such as confusion matrix, Receiver Operating Characteristics (ROC) curve, sensitivity, precision, etc. "
   ]
  },
  {
   "cell_type": "markdown",
   "metadata": {
    "slideshow": {
     "slide_type": "slide"
    }
   },
   "source": [
    "# Thank you!"
   ]
  }
 ],
 "metadata": {
  "celltoolbar": "Slideshow",
  "kernelspec": {
   "display_name": "Python 3 (ipykernel)",
   "language": "python",
   "name": "python3"
  },
  "language_info": {
   "codemirror_mode": {
    "name": "ipython",
    "version": 3
   },
   "file_extension": ".py",
   "mimetype": "text/x-python",
   "name": "python",
   "nbconvert_exporter": "python",
   "pygments_lexer": "ipython3",
   "version": "3.9.7"
  }
 },
 "nbformat": 4,
 "nbformat_minor": 4
}
